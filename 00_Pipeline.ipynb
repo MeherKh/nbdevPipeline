{
 "cells": [
  {
   "cell_type": "code",
   "execution_count": null,
   "metadata": {},
   "outputs": [],
   "source": [
    "# default_exp Pipeline"
   ]
  },
  {
   "cell_type": "markdown",
   "metadata": {},
   "source": [
    "# Pipeline\n",
    "> API details."
   ]
  },
  {
   "cell_type": "code",
   "execution_count": null,
   "metadata": {},
   "outputs": [],
   "source": [
    "#hide\n",
    "from nbdev.showdoc import *"
   ]
  },
  {
   "cell_type": "code",
   "execution_count": null,
   "metadata": {},
   "outputs": [],
   "source": [
    "#export\n",
    "import numpy as np\n",
    "import pandas as pd\n",
    "from datetime import datetime\n",
    "from sklearn.preprocessing import OneHotEncoder\n",
    "from sklearn.base import BaseEstimator,TransformerMixin\n",
    "from sklearn.decomposition import PCA\n",
    "from sklearn.svm import SVC\n",
    "from sklearn.preprocessing import StandardScaler\n",
    "from sklearn.model_selection import train_test_split\n",
    "from sklearn.pipeline import Pipeline\n",
    "from sklearn.model_selection import GridSearchCV"
   ]
  },
  {
   "cell_type": "code",
   "execution_count": null,
   "metadata": {},
   "outputs": [],
   "source": [
    "#export\n",
    "def get_data(path):\n",
    "    data = pd.read_csv(path)\n",
    "    return data"
   ]
  },
  {
   "cell_type": "code",
   "execution_count": null,
   "metadata": {},
   "outputs": [],
   "source": [
    "#hide\n",
    "data = get_data(\"data/new_maisons-nan.csv\")"
   ]
  },
  {
   "cell_type": "code",
   "execution_count": null,
   "metadata": {},
   "outputs": [
    {
     "data": {
      "text/html": [
       "<div>\n",
       "<style scoped>\n",
       "    .dataframe tbody tr th:only-of-type {\n",
       "        vertical-align: middle;\n",
       "    }\n",
       "\n",
       "    .dataframe tbody tr th {\n",
       "        vertical-align: top;\n",
       "    }\n",
       "\n",
       "    .dataframe thead th {\n",
       "        text-align: right;\n",
       "    }\n",
       "</style>\n",
       "<table border=\"1\" class=\"dataframe\">\n",
       "  <thead>\n",
       "    <tr style=\"text-align: right;\">\n",
       "      <th></th>\n",
       "      <th>surface</th>\n",
       "      <th>nb_chambre</th>\n",
       "      <th>date_creation</th>\n",
       "      <th>couleur</th>\n",
       "      <th>prix</th>\n",
       "      <th>classe</th>\n",
       "    </tr>\n",
       "  </thead>\n",
       "  <tbody>\n",
       "    <tr>\n",
       "      <th>0</th>\n",
       "      <td>300.0</td>\n",
       "      <td>3.0</td>\n",
       "      <td>10/02/2010</td>\n",
       "      <td>bleu</td>\n",
       "      <td>100</td>\n",
       "      <td>N</td>\n",
       "    </tr>\n",
       "    <tr>\n",
       "      <th>1</th>\n",
       "      <td>200.0</td>\n",
       "      <td>2.0</td>\n",
       "      <td>03/09/2012</td>\n",
       "      <td>vert</td>\n",
       "      <td>90</td>\n",
       "      <td>N</td>\n",
       "    </tr>\n",
       "    <tr>\n",
       "      <th>2</th>\n",
       "      <td>250.0</td>\n",
       "      <td>3.0</td>\n",
       "      <td>21/08/2011</td>\n",
       "      <td>bleu</td>\n",
       "      <td>80</td>\n",
       "      <td>N</td>\n",
       "    </tr>\n",
       "    <tr>\n",
       "      <th>3</th>\n",
       "      <td>280.0</td>\n",
       "      <td>3.0</td>\n",
       "      <td>21/08/2010</td>\n",
       "      <td>bleu</td>\n",
       "      <td>85</td>\n",
       "      <td>N</td>\n",
       "    </tr>\n",
       "    <tr>\n",
       "      <th>4</th>\n",
       "      <td>200.0</td>\n",
       "      <td>NaN</td>\n",
       "      <td>01/10/2012</td>\n",
       "      <td>bleu</td>\n",
       "      <td>82</td>\n",
       "      <td>N</td>\n",
       "    </tr>\n",
       "  </tbody>\n",
       "</table>\n",
       "</div>"
      ],
      "text/plain": [
       "   surface  nb_chambre date_creation couleur  prix classe\n",
       "0    300.0         3.0    10/02/2010    bleu   100      N\n",
       "1    200.0         2.0    03/09/2012    vert    90      N\n",
       "2    250.0         3.0    21/08/2011    bleu    80      N\n",
       "3    280.0         3.0    21/08/2010    bleu    85      N\n",
       "4    200.0         NaN    01/10/2012    bleu    82      N"
      ]
     },
     "execution_count": null,
     "metadata": {},
     "output_type": "execute_result"
    }
   ],
   "source": [
    "#hide\n",
    "data.head()"
   ]
  },
  {
   "cell_type": "code",
   "execution_count": null,
   "metadata": {},
   "outputs": [
    {
     "name": "stdout",
     "output_type": "stream",
     "text": [
      "<class 'pandas.core.frame.DataFrame'>\n",
      "RangeIndex: 11 entries, 0 to 10\n",
      "Data columns (total 6 columns):\n",
      " #   Column         Non-Null Count  Dtype  \n",
      "---  ------         --------------  -----  \n",
      " 0   surface        10 non-null     float64\n",
      " 1   nb_chambre     9 non-null      float64\n",
      " 2   date_creation  11 non-null     object \n",
      " 3   couleur        11 non-null     object \n",
      " 4   prix           11 non-null     int64  \n",
      " 5   classe         11 non-null     object \n",
      "dtypes: float64(2), int64(1), object(3)\n",
      "memory usage: 656.0+ bytes\n"
     ]
    }
   ],
   "source": [
    "#hide\n",
    "data.info()"
   ]
  },
  {
   "cell_type": "markdown",
   "metadata": {},
   "source": [
    "### surface & nb_chambre columns have null values"
   ]
  },
  {
   "cell_type": "code",
   "execution_count": null,
   "metadata": {},
   "outputs": [
    {
     "data": {
      "text/html": [
       "<div>\n",
       "<style scoped>\n",
       "    .dataframe tbody tr th:only-of-type {\n",
       "        vertical-align: middle;\n",
       "    }\n",
       "\n",
       "    .dataframe tbody tr th {\n",
       "        vertical-align: top;\n",
       "    }\n",
       "\n",
       "    .dataframe thead th {\n",
       "        text-align: right;\n",
       "    }\n",
       "</style>\n",
       "<table border=\"1\" class=\"dataframe\">\n",
       "  <thead>\n",
       "    <tr style=\"text-align: right;\">\n",
       "      <th></th>\n",
       "      <th>surface</th>\n",
       "      <th>nb_chambre</th>\n",
       "      <th>prix</th>\n",
       "    </tr>\n",
       "  </thead>\n",
       "  <tbody>\n",
       "    <tr>\n",
       "      <th>count</th>\n",
       "      <td>10.000000</td>\n",
       "      <td>9.000000</td>\n",
       "      <td>11.000000</td>\n",
       "    </tr>\n",
       "    <tr>\n",
       "      <th>mean</th>\n",
       "      <td>368.000000</td>\n",
       "      <td>4.333333</td>\n",
       "      <td>327.000000</td>\n",
       "    </tr>\n",
       "    <tr>\n",
       "      <th>std</th>\n",
       "      <td>141.090987</td>\n",
       "      <td>1.581139</td>\n",
       "      <td>231.350384</td>\n",
       "    </tr>\n",
       "    <tr>\n",
       "      <th>min</th>\n",
       "      <td>200.000000</td>\n",
       "      <td>2.000000</td>\n",
       "      <td>80.000000</td>\n",
       "    </tr>\n",
       "    <tr>\n",
       "      <th>25%</th>\n",
       "      <td>257.500000</td>\n",
       "      <td>3.000000</td>\n",
       "      <td>87.500000</td>\n",
       "    </tr>\n",
       "    <tr>\n",
       "      <th>50%</th>\n",
       "      <td>350.000000</td>\n",
       "      <td>5.000000</td>\n",
       "      <td>480.000000</td>\n",
       "    </tr>\n",
       "    <tr>\n",
       "      <th>75%</th>\n",
       "      <td>487.500000</td>\n",
       "      <td>6.000000</td>\n",
       "      <td>520.000000</td>\n",
       "    </tr>\n",
       "    <tr>\n",
       "      <th>max</th>\n",
       "      <td>600.000000</td>\n",
       "      <td>6.000000</td>\n",
       "      <td>600.000000</td>\n",
       "    </tr>\n",
       "  </tbody>\n",
       "</table>\n",
       "</div>"
      ],
      "text/plain": [
       "          surface  nb_chambre        prix\n",
       "count   10.000000    9.000000   11.000000\n",
       "mean   368.000000    4.333333  327.000000\n",
       "std    141.090987    1.581139  231.350384\n",
       "min    200.000000    2.000000   80.000000\n",
       "25%    257.500000    3.000000   87.500000\n",
       "50%    350.000000    5.000000  480.000000\n",
       "75%    487.500000    6.000000  520.000000\n",
       "max    600.000000    6.000000  600.000000"
      ]
     },
     "execution_count": null,
     "metadata": {},
     "output_type": "execute_result"
    }
   ],
   "source": [
    "#hide\n",
    "data.describe()"
   ]
  },
  {
   "cell_type": "code",
   "execution_count": null,
   "metadata": {},
   "outputs": [],
   "source": [
    "#hide\n",
    "X = data.iloc[:,:-2]\n",
    "y = data[\"classe\"]"
   ]
  },
  {
   "cell_type": "code",
   "execution_count": null,
   "metadata": {},
   "outputs": [
    {
     "name": "stdout",
     "output_type": "stream",
     "text": [
      "top 5 from X\n",
      "   surface  nb_chambre date_creation couleur\n",
      "0    300.0         3.0    10/02/2010    bleu\n",
      "1    200.0         2.0    03/09/2012    vert\n",
      "2    250.0         3.0    21/08/2011    bleu\n",
      "3    280.0         3.0    21/08/2010    bleu\n",
      "4    200.0         NaN    01/10/2012    bleu\n",
      "----------\n",
      "top 5 from y\n",
      "0    N\n",
      "1    N\n",
      "2    N\n",
      "3    N\n",
      "4    N\n",
      "Name: classe, dtype: object\n"
     ]
    }
   ],
   "source": [
    "#hide\n",
    "print(\"top 5 from X\")\n",
    "print(X.head())\n",
    "print(\"----------\")\n",
    "print(\"top 5 from y\")\n",
    "print(y.head())"
   ]
  },
  {
   "cell_type": "code",
   "execution_count": null,
   "metadata": {},
   "outputs": [],
   "source": [
    "#export\n",
    "class TransformeeMaison(BaseEstimator, TransformerMixin):\n",
    "\n",
    "    def __init__(self,dateTo='annee'):\n",
    "        #dateTo est un hyperparametre qui prend soit la valeur \"annee\" soit \"age\"\n",
    "        self.ohe = OneHotEncoder()\n",
    "        self.dateTo = dateTo\n",
    "    def fit(self,X,y=None):\n",
    "        X_ = X.copy()\n",
    "        self.ohe.fit(X_.loc[:,['couleur']])\n",
    "        self.surface_mean = X_.surface.mean()\n",
    "        self.nb_chambre_mean = np.round(X_.nb_chambre.mean())\n",
    "        return self\n",
    "    def transform(self,X,y=None):\n",
    "        X_ = X.copy()\n",
    "        # remplacer les valeurs Nan\n",
    "        X_.fillna({'surface':self.surface_mean,\n",
    "                   'nb_chambre':self.nb_chambre_mean},\n",
    "            inplace=True)\n",
    "        # changer le type de la date en datetime\n",
    "        X_.date_creation = pd.to_datetime(X_.date_creation)\n",
    "\n",
    "        if self.dateTo == 'annee':\n",
    "            X_[\"annee\"] = X_.date_creation.apply(lambda d : d.year)\n",
    "        elif self.dateTo =='age':\n",
    "            X_[\"age\"] = X_.date_creation.apply(lambda d : datetime.now().year - d.year)\n",
    "\n",
    "        X_.drop(\"date_creation\",axis=1,inplace=True)\n",
    "\n",
    "        # remplacer la couleur par le code One Hot\n",
    "        couleur_sparse=self.ohe.transform(X_.loc[:,['couleur']])\n",
    "        couleur_encoded=couleur_sparse.toarray()\n",
    "        df_couleur_encoded=pd.DataFrame(couleur_encoded,\n",
    "                                        columns='couleur_'+self.ohe.categories_[0],\n",
    "                                        index=X_.index)\n",
    "        X_=pd.concat([X_,df_couleur_encoded], axis=1)\n",
    "        X_.drop('couleur', axis=1, inplace=True, errors='ignore')\n",
    "\n",
    "        return X_"
   ]
  },
  {
   "cell_type": "code",
   "execution_count": null,
   "metadata": {},
   "outputs": [
    {
     "data": {
      "text/html": [
       "<div>\n",
       "<style scoped>\n",
       "    .dataframe tbody tr th:only-of-type {\n",
       "        vertical-align: middle;\n",
       "    }\n",
       "\n",
       "    .dataframe tbody tr th {\n",
       "        vertical-align: top;\n",
       "    }\n",
       "\n",
       "    .dataframe thead th {\n",
       "        text-align: right;\n",
       "    }\n",
       "</style>\n",
       "<table border=\"1\" class=\"dataframe\">\n",
       "  <thead>\n",
       "    <tr style=\"text-align: right;\">\n",
       "      <th></th>\n",
       "      <th>surface</th>\n",
       "      <th>nb_chambre</th>\n",
       "      <th>age</th>\n",
       "      <th>couleur_bleu</th>\n",
       "      <th>couleur_vert</th>\n",
       "    </tr>\n",
       "  </thead>\n",
       "  <tbody>\n",
       "    <tr>\n",
       "      <th>0</th>\n",
       "      <td>300.0</td>\n",
       "      <td>3.0</td>\n",
       "      <td>12</td>\n",
       "      <td>1.0</td>\n",
       "      <td>0.0</td>\n",
       "    </tr>\n",
       "    <tr>\n",
       "      <th>1</th>\n",
       "      <td>200.0</td>\n",
       "      <td>2.0</td>\n",
       "      <td>10</td>\n",
       "      <td>0.0</td>\n",
       "      <td>1.0</td>\n",
       "    </tr>\n",
       "    <tr>\n",
       "      <th>2</th>\n",
       "      <td>250.0</td>\n",
       "      <td>3.0</td>\n",
       "      <td>11</td>\n",
       "      <td>1.0</td>\n",
       "      <td>0.0</td>\n",
       "    </tr>\n",
       "    <tr>\n",
       "      <th>3</th>\n",
       "      <td>280.0</td>\n",
       "      <td>3.0</td>\n",
       "      <td>12</td>\n",
       "      <td>1.0</td>\n",
       "      <td>0.0</td>\n",
       "    </tr>\n",
       "    <tr>\n",
       "      <th>4</th>\n",
       "      <td>200.0</td>\n",
       "      <td>4.0</td>\n",
       "      <td>10</td>\n",
       "      <td>1.0</td>\n",
       "      <td>0.0</td>\n",
       "    </tr>\n",
       "  </tbody>\n",
       "</table>\n",
       "</div>"
      ],
      "text/plain": [
       "   surface  nb_chambre  age  couleur_bleu  couleur_vert\n",
       "0    300.0         3.0   12           1.0           0.0\n",
       "1    200.0         2.0   10           0.0           1.0\n",
       "2    250.0         3.0   11           1.0           0.0\n",
       "3    280.0         3.0   12           1.0           0.0\n",
       "4    200.0         4.0   10           1.0           0.0"
      ]
     },
     "execution_count": null,
     "metadata": {},
     "output_type": "execute_result"
    }
   ],
   "source": [
    "#hide\n",
    "trsf = TransformeeMaison(dateTo='age')\n",
    "new_data = trsf.fit(X).transform(X)\n",
    "new_data.head()"
   ]
  },
  {
   "cell_type": "code",
   "execution_count": null,
   "metadata": {},
   "outputs": [
    {
     "name": "stdout",
     "output_type": "stream",
     "text": [
      "<class 'pandas.core.frame.DataFrame'>\n",
      "RangeIndex: 11 entries, 0 to 10\n",
      "Data columns (total 5 columns):\n",
      " #   Column        Non-Null Count  Dtype  \n",
      "---  ------        --------------  -----  \n",
      " 0   surface       11 non-null     float64\n",
      " 1   nb_chambre    11 non-null     float64\n",
      " 2   age           11 non-null     int64  \n",
      " 3   couleur_bleu  11 non-null     float64\n",
      " 4   couleur_vert  11 non-null     float64\n",
      "dtypes: float64(4), int64(1)\n",
      "memory usage: 568.0 bytes\n"
     ]
    }
   ],
   "source": [
    "#hide\n",
    "new_data.info()"
   ]
  },
  {
   "cell_type": "markdown",
   "metadata": {},
   "source": [
    "#### Diviser les données en train et test"
   ]
  },
  {
   "cell_type": "code",
   "execution_count": null,
   "metadata": {},
   "outputs": [],
   "source": [
    "#export\n",
    "def split_data(X,y,test_size):\n",
    "    X_train,X_test,y_train,y_test = train_test_split(X,y,test_size=test_size)\n",
    "    return X_train , X_test,y_train,y_test"
   ]
  },
  {
   "cell_type": "code",
   "execution_count": null,
   "metadata": {},
   "outputs": [],
   "source": [
    "X_train,X_test,y_train,y_test = split_data(X,y,0.2)"
   ]
  },
  {
   "cell_type": "markdown",
   "metadata": {},
   "source": [
    "## Appliquer la normalisation sur les données"
   ]
  },
  {
   "cell_type": "code",
   "execution_count": null,
   "metadata": {},
   "outputs": [],
   "source": [
    "#hide\n",
    "X_trsf=trsf.fit(X_train).transform(X_train)\n",
    "ss = StandardScaler()\n",
    "ss_x_train = ss.fit_transform(X_trsf)"
   ]
  },
  {
   "cell_type": "markdown",
   "metadata": {},
   "source": [
    "## Appliquer le ACP sur les données"
   ]
  },
  {
   "cell_type": "code",
   "execution_count": null,
   "metadata": {},
   "outputs": [
    {
     "name": "stdout",
     "output_type": "stream",
     "text": [
      "Les variances par axe de pca\n",
      "[6.67620901e-01 2.85684629e-01 4.28963110e-02 3.79815974e-03\n",
      " 2.82888683e-34]\n",
      "La somme cumulée par axe pca\n",
      "[ 66.76209007  95.33055293  99.62018403 100.         100.        ]\n"
     ]
    }
   ],
   "source": [
    "#hide\n",
    "pca = PCA()\n",
    "pca.fit(ss_x_train)\n",
    "print(\"Les variances par axe de pca\")\n",
    "print(pca.explained_variance_ratio_)\n",
    "print(\"La somme cumulée par axe pca\")\n",
    "print(np.cumsum(pca.explained_variance_ratio_)*100)\n"
   ]
  },
  {
   "cell_type": "markdown",
   "metadata": {},
   "source": [
    "## La mise en place du Pipeline + GridSearch + Modelling"
   ]
  },
  {
   "cell_type": "markdown",
   "metadata": {},
   "source": [
    "##### la pipe commence par appliquer les transformations puis elle fait la normalisation et le PCA\n",
    "#####  Enfin elle termine par appliquer le SVM pour la prédiction"
   ]
  },
  {
   "cell_type": "code",
   "execution_count": null,
   "metadata": {},
   "outputs": [],
   "source": [
    "#export\n",
    "class Pipy :\n",
    "    def __init__(self,Pipe,Params):\n",
    "        self.Pipe = Pipe\n",
    "        self.Params = Params\n",
    "        self.gs = None\n",
    "    def gridSearchy(self,X,y):\n",
    "        self.gs = GridSearchCV(self.Pipe,self.Params,cv=3,n_jobs=-1)\n",
    "        self.gs.fit(X,y)\n",
    "        return self.gs\n",
    "    def gridBestEstimator(self):\n",
    "        return self.gs.best_estimator_"
   ]
  },
  {
   "cell_type": "code",
   "execution_count": null,
   "metadata": {},
   "outputs": [],
   "source": [
    "Pipe = Pipeline([\n",
    "                 ('trsf',TransformeeMaison()),\n",
    "                 ('ss',StandardScaler()),\n",
    "                 ('pca',PCA()),\n",
    "                 ('svm',SVC())\n",
    "                ])\n",
    "##les params sont pour le gridsearch pour trouver la meilleur combinaison\n",
    "Params ={\n",
    "    'trsf__dateTo':('age','annee'),\n",
    "    'pca__n_components' : (2,3),\n",
    "    'svm__kernel':('linear','rbf')\n",
    "}"
   ]
  },
  {
   "cell_type": "code",
   "execution_count": null,
   "metadata": {},
   "outputs": [],
   "source": [
    "p =Pipy(Pipe,Params)"
   ]
  },
  {
   "cell_type": "code",
   "execution_count": null,
   "metadata": {},
   "outputs": [
    {
     "data": {
      "text/plain": [
       "GridSearchCV(cv=3,\n",
       "             estimator=Pipeline(steps=[('trsf', TransformeeMaison()),\n",
       "                                       ('ss', StandardScaler()), ('pca', PCA()),\n",
       "                                       ('svm', SVC())]),\n",
       "             n_jobs=-1,\n",
       "             param_grid={'pca__n_components': (2, 3),\n",
       "                         'svm__kernel': ('linear', 'rbf'),\n",
       "                         'trsf__dateTo': ('age', 'annee')})"
      ]
     },
     "execution_count": null,
     "metadata": {},
     "output_type": "execute_result"
    }
   ],
   "source": [
    "p.gridSearchy(X_train,y_train)"
   ]
  },
  {
   "cell_type": "code",
   "execution_count": null,
   "metadata": {},
   "outputs": [
    {
     "data": {
      "text/plain": [
       "Pipeline(steps=[('trsf', TransformeeMaison(dateTo='age')),\n",
       "                ('ss', StandardScaler()), ('pca', PCA(n_components=2)),\n",
       "                ('svm', SVC())])"
      ]
     },
     "execution_count": null,
     "metadata": {},
     "output_type": "execute_result"
    }
   ],
   "source": [
    "p.gridBestEstimator()"
   ]
  }
 ],
 "metadata": {
  "kernelspec": {
   "display_name": "Python 3 (ipykernel)",
   "language": "python",
   "name": "python3"
  }
 },
 "nbformat": 4,
 "nbformat_minor": 2
}
